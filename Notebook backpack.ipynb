{
 "cells": [
  {
   "cell_type": "markdown",
   "metadata": {},
   "source": [
    "# <center>Лабораторная работа №1</center>\n",
    "## <center>Распределенные вычисления и параллельное программирование</center>\n",
    "### <center>Гавриков Илья Сергеевич МСУ-201</center>"
   ]
  },
  {
   "cell_type": "code",
   "execution_count": 1,
   "metadata": {},
   "outputs": [],
   "source": [
    "# Импорт либ\n",
    "import pandas as pd\n",
    "from joblib import Parallel, delayed\n",
    "from glob import glob\n",
    "\n",
    "# список файлов\n",
    "tests = [\"5\", \"8\", \"10\", \"14\", \"15\", \"16\", \"17\", \"18\", \"19\", \"20\", \"21\", \"22\", \"23\", \"24\", \"25\", \"26\"]\n",
    "files = ['tests\\\\test_'+x+'.csv' for x in tests]\n",
    "results = ['tests\\\\bpresult_'+x+'.csv' for x in tests]\n",
    "\n",
    "\n",
    "def knapSack(items):\n",
    "    \"\"\"\n",
    "    :param items: [capacity, weights, values, N]  \n",
    "    :return: best_value_cost, fractions\n",
    "    \"\"\"\n",
    "    W = items[0]\n",
    "    wt = items[1]\n",
    "    val = items[2]\n",
    "    n = items[3]\n",
    "\n",
    "    K = [[0 for x in range(int(W) + 1)] for x in range(n + 1)]\n",
    "\n",
    "    # Создаем таблицу кэша K[][] bottom up и далее динамическое программирование \n",
    "    for i in range(n + 1):\n",
    "        for w in range(int(W) + 1):\n",
    "            \n",
    "            if i == 0 or w == 0:\n",
    "                K[i][w] = 0\n",
    "            elif wt[i-1] <= w:\n",
    "                K[i][w] = max(val[i-1] + K[i-1][int(w-wt[i-1])], K[i-1][w]) #если вес предмета меньше веса столбца,\n",
    "                                                                            #максимизируем значение суммарной ценности\n",
    "            else:\n",
    "                K[i][w] = K[i-1][w] #если вес предмета больше вес столбца,\n",
    "                                    #забираем значение ячейки из предыдущей строки\n",
    "            \n",
    "    best_combination = [0] * n\n",
    "    result = K[n][int(W)]\n",
    "    cap_copy = W\n",
    "    for i in range(n, 0, -1):\n",
    "        if round(result) != round(K[i - 1][int(cap_copy)]):\n",
    "            best_combination[i - 1] = 1\n",
    "            result -= val[i - 1]\n",
    "            cap_copy -= wt[i - 1]\n",
    "    return K[n][int(W)], best_combination\n",
    "    \n",
    "#читаем данные\n",
    "data=[]\n",
    "for file in files:\n",
    "    test = pd.read_csv(file, names=['weights', 'values'], delimiter=\";\")\n",
    "    N = test.shape[0]\n",
    "    weights = test['weights'].tolist()\n",
    "    values = test['values'].tolist()\n",
    "    capacity = test['weights'].sum() / 2\n",
    "    data.append([capacity, weights, values, N])\n",
    "    \n",
    "from time import time\n",
    "deltas = []\n",
    "for job in range(1,9):\n",
    "    start = time()\n",
    "    res = Parallel(n_jobs=job)(delayed(knapSack)(d) for d in data) #параллелизация\n",
    "    delta = time() - start\n",
    "    deltas.append(delta)"
   ]
  },
  {
   "cell_type": "code",
   "execution_count": 2,
   "metadata": {},
   "outputs": [],
   "source": [
    "fractions = [x[1] for x in res]"
   ]
  },
  {
   "cell_type": "code",
   "execution_count": 4,
   "metadata": {},
   "outputs": [],
   "source": [
    "import numpy as np\n",
    "for r in range(len(results)):\n",
    "    resu = pd.read_csv(results[r], sep=';', header=None)\n",
    "    frac = resu.loc[0].values.tolist()\n",
    "    try:\n",
    "        np.testing.assert_allclose(frac, fractions[r])\n",
    "    except AssertionError:\n",
    "        print(results[r])\n",
    "        print('result: ', frac)\n",
    "        print('test: ', fractions[r], '\\n')"
   ]
  },
  {
   "cell_type": "code",
   "execution_count": 5,
   "metadata": {},
   "outputs": [
    {
     "data": {
      "text/html": [
       "<div>\n",
       "<style scoped>\n",
       "    .dataframe tbody tr th:only-of-type {\n",
       "        vertical-align: middle;\n",
       "    }\n",
       "\n",
       "    .dataframe tbody tr th {\n",
       "        vertical-align: top;\n",
       "    }\n",
       "\n",
       "    .dataframe thead th {\n",
       "        text-align: right;\n",
       "    }\n",
       "</style>\n",
       "<table border=\"1\" class=\"dataframe\">\n",
       "  <thead>\n",
       "    <tr style=\"text-align: right;\">\n",
       "      <th></th>\n",
       "      <th>time</th>\n",
       "      <th>diff</th>\n",
       "    </tr>\n",
       "  </thead>\n",
       "  <tbody>\n",
       "    <tr>\n",
       "      <th>0</th>\n",
       "      <td>2.952124</td>\n",
       "      <td>1.000000</td>\n",
       "    </tr>\n",
       "    <tr>\n",
       "      <th>1</th>\n",
       "      <td>3.327530</td>\n",
       "      <td>0.887182</td>\n",
       "    </tr>\n",
       "    <tr>\n",
       "      <th>2</th>\n",
       "      <td>3.129290</td>\n",
       "      <td>0.943385</td>\n",
       "    </tr>\n",
       "    <tr>\n",
       "      <th>3</th>\n",
       "      <td>2.296739</td>\n",
       "      <td>1.285355</td>\n",
       "    </tr>\n",
       "    <tr>\n",
       "      <th>4</th>\n",
       "      <td>2.147248</td>\n",
       "      <td>1.374841</td>\n",
       "    </tr>\n",
       "    <tr>\n",
       "      <th>5</th>\n",
       "      <td>2.406766</td>\n",
       "      <td>1.226594</td>\n",
       "    </tr>\n",
       "    <tr>\n",
       "      <th>6</th>\n",
       "      <td>2.294205</td>\n",
       "      <td>1.286774</td>\n",
       "    </tr>\n",
       "    <tr>\n",
       "      <th>7</th>\n",
       "      <td>2.483461</td>\n",
       "      <td>1.188714</td>\n",
       "    </tr>\n",
       "  </tbody>\n",
       "</table>\n",
       "</div>"
      ],
      "text/plain": [
       "       time      diff\n",
       "0  2.952124  1.000000\n",
       "1  3.327530  0.887182\n",
       "2  3.129290  0.943385\n",
       "3  2.296739  1.285355\n",
       "4  2.147248  1.374841\n",
       "5  2.406766  1.226594\n",
       "6  2.294205  1.286774\n",
       "7  2.483461  1.188714"
      ]
     },
     "execution_count": 5,
     "metadata": {},
     "output_type": "execute_result"
    }
   ],
   "source": [
    "differ = pd.DataFrame()\n",
    "differ['time'] = deltas\n",
    "differ['diff'] = differ['time'][0] / differ['time']\n",
    "differ"
   ]
  },
  {
   "cell_type": "code",
   "execution_count": 6,
   "metadata": {},
   "outputs": [],
   "source": [
    "import matplotlib.pyplot as plt"
   ]
  },
  {
   "cell_type": "code",
   "execution_count": 7,
   "metadata": {},
   "outputs": [
    {
     "data": {
      "image/png": "[encoded data removed]",
      "text/plain": [
       "<Figure size 432x288 with 1 Axes>"
      ]
     },
     "metadata": {
      "needs_background": "light"
     },
     "output_type": "display_data"
    }
   ],
   "source": [
    "differ['time'].plot(title='Зависимость времени от числа потоков')\n",
    "plt.xlabel('Поток')\n",
    "plt.ylabel('Время')\n",
    "plt.show()"
   ]
  },
  {
   "cell_type": "code",
   "execution_count": 8,
   "metadata": {},
   "outputs": [
    {
     "data": {
      "image/png": "[encoded data removed]",
      "text/plain": [
       "<Figure size 432x288 with 1 Axes>"
      ]
     },
     "metadata": {
      "needs_background": "light"
     },
     "output_type": "display_data"
    }
   ],
   "source": [
    "differ['diff'][1:].plot(title='Уменьшение времени от числа потоков')\n",
    "plt.xlabel('Поток')\n",
    "plt.ylabel('Время')\n",
    "plt.show()"
   ]
  },
  {
   "cell_type": "markdown",
   "metadata": {},
   "source": [
    "То же самое, но на 50 тестах"
   ]
  },
  {
   "cell_type": "code",
   "execution_count": 9,
   "metadata": {},
   "outputs": [],
   "source": [
    "data=[]\n",
    "for file in files:\n",
    "    test = pd.read_csv(file, names=['weights', 'values'], delimiter=\";\")\n",
    "    N = test.shape[0]\n",
    "    weights = test['weights'].tolist()\n",
    "    values = test['values'].tolist()\n",
    "    capacity = test['weights'].sum() / 2\n",
    "    data.append([capacity, weights, values, N])\n",
    "\n",
    "# генерируем новые тесты\n",
    "nums = 50\n",
    "gen_w = []\n",
    "gen_v = []\n",
    "for i in range(27, nums):\n",
    "    gen_w.append([np.random.uniform(10,1000) for x in range(i)])\n",
    "    gen_v.append([np.random.uniform(10,1000) for x in range(i)])\n",
    "\n",
    "data_gen = [[np.sum(gen_w[i]) / 2, gen_w[i], gen_v[i], len(gen_v[i])] for i in range(len(gen_v))]\n",
    "for i in data_gen:\n",
    "    data.append(i)\n",
    "    \n",
    "from time import time\n",
    "deltas = []\n",
    "for job in range(1,9):\n",
    "    start = time()\n",
    "    res = Parallel(n_jobs=job)(delayed(knapSack)(d) for d in data)\n",
    "    delta = time() - start\n",
    "    deltas.append(delta)"
   ]
  },
  {
   "cell_type": "code",
   "execution_count": 10,
   "metadata": {},
   "outputs": [
    {
     "data": {
      "text/html": [
       "<div>\n",
       "<style scoped>\n",
       "    .dataframe tbody tr th:only-of-type {\n",
       "        vertical-align: middle;\n",
       "    }\n",
       "\n",
       "    .dataframe tbody tr th {\n",
       "        vertical-align: top;\n",
       "    }\n",
       "\n",
       "    .dataframe thead th {\n",
       "        text-align: right;\n",
       "    }\n",
       "</style>\n",
       "<table border=\"1\" class=\"dataframe\">\n",
       "  <thead>\n",
       "    <tr style=\"text-align: right;\">\n",
       "      <th></th>\n",
       "      <th>time</th>\n",
       "      <th>diff</th>\n",
       "    </tr>\n",
       "  </thead>\n",
       "  <tbody>\n",
       "    <tr>\n",
       "      <th>0</th>\n",
       "      <td>20.225879</td>\n",
       "      <td>1.000000</td>\n",
       "    </tr>\n",
       "    <tr>\n",
       "      <th>1</th>\n",
       "      <td>15.632426</td>\n",
       "      <td>1.293841</td>\n",
       "    </tr>\n",
       "    <tr>\n",
       "      <th>2</th>\n",
       "      <td>12.354645</td>\n",
       "      <td>1.637107</td>\n",
       "    </tr>\n",
       "    <tr>\n",
       "      <th>3</th>\n",
       "      <td>9.255764</td>\n",
       "      <td>2.185220</td>\n",
       "    </tr>\n",
       "    <tr>\n",
       "      <th>4</th>\n",
       "      <td>5.220192</td>\n",
       "      <td>3.874547</td>\n",
       "    </tr>\n",
       "    <tr>\n",
       "      <th>5</th>\n",
       "      <td>4.045223</td>\n",
       "      <td>4.999941</td>\n",
       "    </tr>\n",
       "    <tr>\n",
       "      <th>6</th>\n",
       "      <td>4.787636</td>\n",
       "      <td>4.224607</td>\n",
       "    </tr>\n",
       "    <tr>\n",
       "      <th>7</th>\n",
       "      <td>5.944717</td>\n",
       "      <td>3.402328</td>\n",
       "    </tr>\n",
       "  </tbody>\n",
       "</table>\n",
       "</div>"
      ],
      "text/plain": [
       "        time      diff\n",
       "0  20.225879  1.000000\n",
       "1  15.632426  1.293841\n",
       "2  12.354645  1.637107\n",
       "3   9.255764  2.185220\n",
       "4   5.220192  3.874547\n",
       "5   4.045223  4.999941\n",
       "6   4.787636  4.224607\n",
       "7   5.944717  3.402328"
      ]
     },
     "execution_count": 10,
     "metadata": {},
     "output_type": "execute_result"
    }
   ],
   "source": [
    "differ1 = pd.DataFrame()\n",
    "differ1['time'] = deltas\n",
    "differ1['diff'] = differ1['time'][0] / differ1['time']\n",
    "differ1"
   ]
  },
  {
   "cell_type": "code",
   "execution_count": 11,
   "metadata": {},
   "outputs": [
    {
     "data": {
      "image/png": "[encoded data removed]",
      "text/plain": [
       "<Figure size 432x288 with 1 Axes>"
      ]
     },
     "metadata": {
      "needs_background": "light"
     },
     "output_type": "display_data"
    }
   ],
   "source": [
    "differ1['time'].plot(title='Зависимость времени от числа потоков')\n",
    "plt.xlabel('Поток')\n",
    "plt.ylabel('Время')\n",
    "plt.show()"
   ]
  },
  {
   "cell_type": "code",
   "execution_count": 12,
   "metadata": {},
   "outputs": [
    {
     "data": {
      "image/png": "[encoded data removed]",
      "text/plain": [
       "<Figure size 432x288 with 1 Axes>"
      ]
     },
     "metadata": {
      "needs_background": "light"
     },
     "output_type": "display_data"
    }
   ],
   "source": [
    "differ1['diff'][1:].plot(title='Уменьшение времени от числа потоков')\n",
    "plt.xlabel('Поток')\n",
    "plt.ylabel('Время')\n",
    "plt.show()"
   ]
  },
  {
   "cell_type": "markdown",
   "metadata": {},
   "source": [
    "Видим, что при увеличении числа тестов, параллелизация вычислений позволяет действительно ускорить процесс выполнения, а при маленьких значениях только замедляет"
   ]
  },
  {
   "cell_type": "markdown",
   "metadata": {},
   "source": [
    "### Simple recursion"
   ]
  },
  {
   "cell_type": "code",
   "execution_count": 14,
   "metadata": {},
   "outputs": [],
   "source": [
    "def knapsack(V, W, C):\n",
    "    return knapsack_aux(V, W, len(V)-1, C)\n",
    "\n",
    "def knapsack_aux(V, W, i, aW):\n",
    "    if i == -1 or aW == 0:\n",
    "        return 0\n",
    "    elif W[i] > aW:\n",
    "         return knapsack_aux(V, W, i-1, aW)\n",
    "    else:\n",
    "        return max(knapsack_aux(V, W, i-1, aW), V[i] + knapsack_aux(V, W, i-1, aW-W[i]))"
   ]
  },
  {
   "cell_type": "code",
   "execution_count": 15,
   "metadata": {},
   "outputs": [
    {
     "name": "stdout",
     "output_type": "stream",
     "text": [
      "tests\\test_5.csv 1261.420767\n",
      "tests\\test_8.csv 2435.97696\n",
      "tests\\test_10.csv 3755.763412\n",
      "tests\\test_14.csv 4990.724634000001\n",
      "tests\\test_15.csv 6716.335913\n",
      "tests\\test_16.csv 5838.18097\n",
      "tests\\test_17.csv 6834.00367576087\n",
      "tests\\test_18.csv 7482.99115736099\n",
      "tests\\test_19.csv 7855.367567510842\n",
      "tests\\test_20.csv 7574.904870963749\n",
      "tests\\test_21.csv 9409.5453713559\n",
      "tests\\test_22.csv 9189.727849324545\n",
      "tests\\test_23.csv 9299.48190067703\n",
      "tests\\test_24.csv 8647.909360136739\n",
      "tests\\test_25.csv 9605.3033187574\n",
      "tests\\test_26.csv 11130.85964625838\n"
     ]
    }
   ],
   "source": [
    "for file in files:\n",
    "    test = pd.read_csv(file, names=['weights', 'values'], delimiter=\";\")\n",
    "    weights = test['weights'].tolist()\n",
    "    values = test['values'].tolist()\n",
    "    capacity = test['weights'].sum() / 2\n",
    "    print(file+ ' ' + str(knapsack(values, weights, capacity)))"
   ]
  },
  {
   "cell_type": "code",
   "execution_count": null,
   "metadata": {},
   "outputs": [],
   "source": []
  }
 ],
 "metadata": {
  "kernelspec": {
   "display_name": "Python 3",
   "language": "python",
   "name": "python3"
  },
  "language_info": {
   "codemirror_mode": {
    "name": "ipython",
    "version": 3
   },
   "file_extension": ".py",
   "mimetype": "text/x-python",
   "name": "python",
   "nbconvert_exporter": "python",
   "pygments_lexer": "ipython3",
   "version": "3.7.6"
  }
 },
 "nbformat": 4,
 "nbformat_minor": 2
}
